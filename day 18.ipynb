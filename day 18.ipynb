{
 "cells": [
  {
   "cell_type": "code",
   "execution_count": 3,
   "id": "a630415b-d1bc-4d72-ad01-9a10220e07b8",
   "metadata": {},
   "outputs": [],
   "source": [
    "# Examples on Regular Expressions - Coding Assignment\n",
    "# Assignment:\n",
    "# Write a Python function using regular expressions to extract all email addresses from a given string. Test it with the input: 'Contact us at support@example.com and sales@example.org.\n"
   ]
  },
  {
   "cell_type": "code",
   "execution_count": 5,
   "id": "37ab0106-7282-4cff-b461-d18c874d0a2a",
   "metadata": {},
   "outputs": [
    {
     "name": "stdout",
     "output_type": "stream",
     "text": [
      "Original text: Contact us at support@example.com and sales@example.org.\n",
      "Extracted email addresses: ['support@example.com', 'sales@example.org']\n"
     ]
    }
   ],
   "source": [
    "# Function to extract email addresses from a given string\n",
    "def extract_emails(text):\n",
    "    \"\"\"\n",
    "    This function extracts all email addresses from the given string using regular expressions.\n",
    "    :param text: The input string\n",
    "    :return: A list of email addresses\n",
    "    \"\"\"\n",
    "    import re \n",
    "    \n",
    "    email_pattern = r'[a-zA-Z0-9._%+-]+@[a-zA-Z0-9.-]+\\.[a-zA-Z]{2,}'\n",
    "    \n",
    "    email_addresses = re.findall(email_pattern, text)\n",
    "    \n",
    "    return email_addresses\n",
    "\n",
    "input_text = 'Contact us at support@example.com and sales@example.org.'\n",
    "result = extract_emails(input_text)\n",
    "\n",
    "print(\"Original text:\", input_text)\n",
    "print(\"Extracted email addresses:\", result)\n"
   ]
  },
  {
   "cell_type": "code",
   "execution_count": null,
   "id": "5cc0e7d4-4817-4925-8d8a-45bce1abfa5b",
   "metadata": {},
   "outputs": [],
   "source": []
  }
 ],
 "metadata": {
  "kernelspec": {
   "display_name": "Python 3 (ipykernel)",
   "language": "python",
   "name": "python3"
  },
  "language_info": {
   "codemirror_mode": {
    "name": "ipython",
    "version": 3
   },
   "file_extension": ".py",
   "mimetype": "text/x-python",
   "name": "python",
   "nbconvert_exporter": "python",
   "pygments_lexer": "ipython3",
   "version": "3.12.7"
  }
 },
 "nbformat": 4,
 "nbformat_minor": 5
}
