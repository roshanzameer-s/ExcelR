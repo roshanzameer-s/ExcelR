{
 "cells": [
  {
   "cell_type": "code",
   "execution_count": null,
   "id": "ca88db16-4b27-49d9-911b-38b971f3fba7",
   "metadata": {},
   "outputs": [],
   "source": [
    "def build_ngram model(corpus,n):\n",
    "    words=preprocess_corpus(corpus)\n",
    "    ngram=[(tuple(words[i:i+n-1]),words[i+n-1]) for i in range(len(words)-n+1)]\n",
    "    model=defaultdict(Counter)\n",
    "    dor context, word in ngrams:\n",
    "\n"
   ]
  }
 ],
 "metadata": {
  "kernelspec": {
   "display_name": "Python 3 (ipykernel)",
   "language": "python",
   "name": "python3"
  },
  "language_info": {
   "codemirror_mode": {
    "name": "ipython",
    "version": 3
   },
   "file_extension": ".py",
   "mimetype": "text/x-python",
   "name": "python",
   "nbconvert_exporter": "python",
   "pygments_lexer": "ipython3",
   "version": "3.12.7"
  }
 },
 "nbformat": 4,
 "nbformat_minor": 5
}
