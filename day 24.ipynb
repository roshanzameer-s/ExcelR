{
 "cells": [
  {
   "cell_type": "code",
   "execution_count": null,
   "id": "638931cf-6b49-4825-b22e-c97aae9ebddd",
   "metadata": {},
   "outputs": [],
   "source": []
  }
 ],
 "metadata": {
  "kernelspec": {
   "display_name": "",
   "name": ""
  },
  "language_info": {
   "name": ""
  }
 },
 "nbformat": 4,
 "nbformat_minor": 5
}
