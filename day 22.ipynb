{
 "cells": [
  {
   "cell_type": "code",
   "execution_count": 3,
   "id": "a630415b-d1bc-4d72-ad01-9a10220e07b8",
   "metadata": {},
   "outputs": [],
   "source": [
    "# Part of Speech Tagging using SpaCy - Coding Assignment\n",
    "# Assignment:\n",
    "# Write a Python script to perform part-of-speech tagging on the sentence: 'NLP is amazing and fun to learn.' using SpaCy.\n"
   ]
  },
  {
   "cell_type": "code",
   "execution_count": null,
   "id": "37ab0106-7282-4cff-b461-d18c874d0a2a",
   "metadata": {},
   "outputs": [],
   "source": [
    "import spacy\n",
    "\n",
    "def pos_tagging(sentence):\n",
    "    \"\"\"\n",
    "    Performs part-of-speech tagging on a given sentence using SpaCy.\n",
    "    :param sentence: The input sentence (string)\n",
    "    :return: A list of tuples containing words and their POS tags\n",
    "    \"\"\"\n",
    "    nlp = spacy.load('en_core_web_sm')\n",
    "    \n",
    "    doc = nlp(sentence)\n",
    "    \n",
    "    pos_tags = [(token.text, token.pos_) for token in doc]\n",
    "    \n",
    "    return pos_tags\n",
    "\n",
    "input_sentence = 'NLP is amazing and fun to learn.'\n",
    "pos_tags = pos_tagging(input_sentence)\n",
    "\n",
    "print(\"Sentence:\", input_sentence)\n",
    "print(\"Part-of-Speech Tags:\")\n",
    "for word, tag in pos_tags:\n",
    "    print(f\"{word}: {tag}\")\n"
   ]
  },
  {
   "cell_type": "code",
   "execution_count": null,
   "id": "5cc0e7d4-4817-4925-8d8a-45bce1abfa5b",
   "metadata": {},
   "outputs": [],
   "source": []
  }
 ],
 "metadata": {
  "kernelspec": {
   "display_name": "Python 3 (ipykernel)",
   "language": "python",
   "name": "python3"
  },
  "language_info": {
   "codemirror_mode": {
    "name": "ipython",
    "version": 3
   },
   "file_extension": ".py",
   "mimetype": "text/x-python",
   "name": "python",
   "nbconvert_exporter": "python",
   "pygments_lexer": "ipython3",
   "version": "3.12.7"
  }
 },
 "nbformat": 4,
 "nbformat_minor": 5
}
