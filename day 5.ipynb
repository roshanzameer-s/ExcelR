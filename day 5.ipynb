{
 "cells": [
  {
   "cell_type": "code",
   "execution_count": 8,
   "id": "41f7eeb9-9caf-4ec0-831e-7c2cff89b80f",
   "metadata": {},
   "outputs": [
    {
     "name": "stdin",
     "output_type": "stream",
     "text": [
      " 45\n"
     ]
    },
    {
     "name": "stdout",
     "output_type": "stream",
     "text": [
      "506\n"
     ]
    }
   ],
   "source": [
    "def sum_of_evens(n):\n",
    "    total = 0\n",
    "    for i in range(2, n+1, 2):\n",
    "        total += i\n",
    "    return total\n",
    "\n",
    "n = int(input())\n",
    "print(sum_of_evens(n))\n"
   ]
  },
  {
   "cell_type": "code",
   "execution_count": null,
   "id": "f7f9fbb4-cefc-40cf-9ef0-d6bb06cbf89a",
   "metadata": {},
   "outputs": [],
   "source": []
  }
 ],
 "metadata": {
  "kernelspec": {
   "display_name": "Python 3 (ipykernel)",
   "language": "python",
   "name": "python3"
  },
  "language_info": {
   "codemirror_mode": {
    "name": "ipython",
    "version": 3
   },
   "file_extension": ".py",
   "mimetype": "text/x-python",
   "name": "python",
   "nbconvert_exporter": "python",
   "pygments_lexer": "ipython3",
   "version": "3.12.7"
  }
 },
 "nbformat": 4,
 "nbformat_minor": 5
}
