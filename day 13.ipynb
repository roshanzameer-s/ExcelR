{
 "cells": [
  {
   "cell_type": "code",
   "execution_count": null,
   "id": "a630415b-d1bc-4d72-ad01-9a10220e07b8",
   "metadata": {},
   "outputs": [],
   "source": []
  }
 ],
 "metadata": {
  "kernelspec": {
   "display_name": "",
   "name": ""
  },
  "language_info": {
   "name": ""
  }
 },
 "nbformat": 4,
 "nbformat_minor": 5
}
